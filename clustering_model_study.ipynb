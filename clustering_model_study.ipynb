{
 "cells": [
  {
   "cell_type": "code",
   "execution_count": 55,
   "metadata": {},
   "outputs": [],
   "source": [
    "from dataprovider import DataProvider\n",
    "from model import Encoder\n",
    "import numpy as np\n",
    "import matplotlib.pyplot as plt\n",
    "from tqdm import tqdm_notebook as tqdm\n",
    "from sklearn.metrics import normalized_mutual_info_score, adjusted_mutual_info_score"
   ]
  },
  {
   "cell_type": "markdown",
   "metadata": {},
   "source": [
    "## WORKS ON 'mnist_classifier' BRANCH"
   ]
  },
  {
   "cell_type": "code",
   "execution_count": 41,
   "metadata": {},
   "outputs": [],
   "source": [
    "sample_size = 1 \n",
    "input_dim = 784\n",
    "hidden_size = 512\n",
    "num_factors = 15\n",
    "latent_dim = 256\n",
    "max_pix_val = 255"
   ]
  },
  {
   "cell_type": "code",
   "execution_count": 42,
   "metadata": {},
   "outputs": [],
   "source": [
    "def get_pred (encoder, iterator, norm_test=False):\n",
    "    actual_target, pred_target = [], []\n",
    "    for batch in tqdm (range(len(iterator))):\n",
    "        x, y = iterator[batch]\n",
    "        _, _, multinom = encoder(x)\n",
    "        actual_target.append(y)\n",
    "        if norm_test:\n",
    "            _, _, multinom1 = encoder(x*max_pix_val)\n",
    "            pred_target.append((\n",
    "                np.argmax(multinom.data.numpy()), \n",
    "                np.argmax(multinom1.data.numpy()), \n",
    "            ))\n",
    "        else:\n",
    "            pred_target.append(np.argmax(multinom.data.numpy()))\n",
    "    return actual_target, pred_target"
   ]
  },
  {
   "cell_type": "code",
   "execution_count": 43,
   "metadata": {},
   "outputs": [],
   "source": [
    "def visualize (arrs, titles, plot_type='bar'):\n",
    "    num_plots = len(arrs)\n",
    "    fig, ax = plt.subplots (1, num_plots, figsize=(20, 10))\n",
    "    for i in range(num_plots):\n",
    "        ax[i].set_title (titles[i])\n",
    "        if 'bar' in plot_type:\n",
    "            ax[i].bar (range(num_factors), arrs[i])\n",
    "        else:\n",
    "            ax[i].plot (arrs[i])\n",
    "    plt.show ()\n",
    "    plt.close()"
   ]
  },
  {
   "cell_type": "markdown",
   "metadata": {},
   "source": [
    "## HOW DOES INITIAL CLUSTERING CHANGE WITH NUMBER OF LAYERS"
   ]
  },
  {
   "cell_type": "code",
   "execution_count": 54,
   "metadata": {},
   "outputs": [
    {
     "name": "stderr",
     "output_type": "stream",
     "text": [
      "The installed widget Javascript is the wrong version.\n"
     ]
    },
    {
     "name": "stdout",
     "output_type": "stream",
     "text": [
      "\n"
     ]
    },
    {
     "name": "stderr",
     "output_type": "stream",
     "text": [
      "The installed widget Javascript is the wrong version.\n"
     ]
    },
    {
     "name": "stdout",
     "output_type": "stream",
     "text": [
      "\n"
     ]
    },
    {
     "name": "stderr",
     "output_type": "stream",
     "text": [
      "The installed widget Javascript is the wrong version.\n"
     ]
    },
    {
     "name": "stdout",
     "output_type": "stream",
     "text": [
      "\n"
     ]
    },
    {
     "name": "stderr",
     "output_type": "stream",
     "text": [
      "The installed widget Javascript is the wrong version.\n"
     ]
    },
    {
     "name": "stdout",
     "output_type": "stream",
     "text": [
      "\n"
     ]
    },
    {
     "name": "stderr",
     "output_type": "stream",
     "text": [
      "The installed widget Javascript is the wrong version.\n"
     ]
    },
    {
     "name": "stdout",
     "output_type": "stream",
     "text": [
      "\n"
     ]
    },
    {
     "name": "stderr",
     "output_type": "stream",
     "text": [
      "The installed widget Javascript is the wrong version.\n"
     ]
    },
    {
     "name": "stdout",
     "output_type": "stream",
     "text": [
      "\n"
     ]
    },
    {
     "name": "stderr",
     "output_type": "stream",
     "text": [
      "The installed widget Javascript is the wrong version.\n"
     ]
    },
    {
     "name": "stdout",
     "output_type": "stream",
     "text": [
      "\n"
     ]
    },
    {
     "name": "stderr",
     "output_type": "stream",
     "text": [
      "The installed widget Javascript is the wrong version.\n"
     ]
    },
    {
     "name": "stdout",
     "output_type": "stream",
     "text": [
      "\n"
     ]
    },
    {
     "name": "stderr",
     "output_type": "stream",
     "text": [
      "The installed widget Javascript is the wrong version.\n"
     ]
    },
    {
     "name": "stdout",
     "output_type": "stream",
     "text": [
      "\n"
     ]
    },
    {
     "name": "stderr",
     "output_type": "stream",
     "text": [
      "The installed widget Javascript is the wrong version.\n"
     ]
    },
    {
     "name": "stdout",
     "output_type": "stream",
     "text": [
      "\n",
      "\n"
     ]
    }
   ],
   "source": [
    "one, three= [], []\n",
    "for i in range(5):\n",
    "    encoder_1 = Encoder(input_dim, hidden_size, num_factors, latent_dim, num_layers=1)\n",
    "    encoder_2 = Encoder(input_dim, hidden_size, num_factors, latent_dim, num_layers=3)\n",
    "    dataprovider = DataProvider(sample_size, input_dim)\n",
    "\n",
    "    iterator = list(dataprovider.data_iterator(train=True))\n",
    "    targ_one, pred_one = get_pred (encoder_1, iterator)\n",
    "    targ_two, pred_two = get_pred (encoder_2, iterator)\n",
    "\n",
    "    one_layer_bin, two_layer_bin = np.bincount (pred_one, minlength=num_factors), \\\n",
    "                                                np.bincount (pred_two,  minlength=num_factors)\n",
    "    one_layer_nmi = normalized_mutual_info_score(targ_one, pred_one)\n",
    "    two_layer_nmi = normalized_mutual_info_score(targ_two, pred_two)\n",
    "#     visualize ([one_layer_bin, two_layer_bin], \\\n",
    "#                    ['1 Layer - {}'.format(str(one_layer_nmi)), '2 Layers - {}'.format(str(two_layer_nmi))])\n",
    "    one.append(one_layer_nmi)\n",
    "    three.append(two_layer_nmi)"
   ]
  },
  {
   "cell_type": "code",
   "execution_count": 66,
   "metadata": {},
   "outputs": [
    {
     "name": "stdout",
     "output_type": "stream",
     "text": [
      "[0.10790106696216986, 0.08051745921272276, 0.12040699502835588, 0.10672490515565199, 0.07647661561702036] 0.09840540839518416\n",
      "[0.07752307097388957, 0.0698782965091171, 0.13979518565422325, 0.07802620681667906, 0.14830322426612808] 0.1027051968440074\n",
      "[0.09581844476350329, 0.12815434014779584, 0.06846028802086812, 0.06944467273934006, 0.0672448923560428] 0.08582452760551003\n",
      "[0.04919711253186798, 0.12024230433599276, 0.10584117332950221, 0.13228610231400464, 0.1138068644413121] 0.10427471139053593\n",
      "5000 5000\n",
      "0.003534131903633712\n"
     ]
    }
   ],
   "source": [
    "print one, np.mean(one)\n",
    "print three, np.mean(three)\n",
    "print five, np.mean (five)\n",
    "print ten, np.mean (ten)\n",
    "import random\n",
    "from copy import copy\n",
    "targ_three = copy(targ_one)\n",
    "random.shuffle (targ_three)\n",
    "print len(targ_one), len(targ_three)\n",
    "print normalized_mutual_info_score(targ_one, targ_three)\n"
   ]
  },
  {
   "cell_type": "markdown",
   "metadata": {},
   "source": [
    "## HOW DOES CLUSTERING CHANGE WITH MAGNIFICATION OF INPUT"
   ]
  },
  {
   "cell_type": "code",
   "execution_count": 70,
   "metadata": {},
   "outputs": [],
   "source": [
    "encoder = Encoder(input_dim, hidden_size, num_factors, latent_dim)"
   ]
  },
  {
   "cell_type": "code",
   "execution_count": 71,
   "metadata": {},
   "outputs": [
    {
     "name": "stderr",
     "output_type": "stream",
     "text": [
      "The installed widget Javascript is the wrong version.\n"
     ]
    },
    {
     "name": "stdout",
     "output_type": "stream",
     "text": [
      "\n"
     ]
    },
    {
     "data": {
      "image/png": "[encoded data removed]",
      "text/plain": [
       "<matplotlib.figure.Figure at 0x119803e90>"
      ]
     },
     "metadata": {},
     "output_type": "display_data"
    }
   ],
   "source": [
    "dataprovider = DataProvider(sample_size, input_dim)\n",
    "iterator = list(dataprovider.data_iterator(train=True))\n",
    "targ, preds = get_pred (encoder, iterator, norm_test=True)\n",
    "pred_normed, pred_unnormed = zip (*preds)\n",
    "normed_bin, unnormed_bin = np.bincount (pred_normed, minlength=num_factors), \\\n",
    "                                            np.bincount (pred_unnormed,  minlength=num_factors)\n",
    "normed_nmi = normalized_mutual_info_score(targ, pred_normed)\n",
    "unnormed_nmi = normalized_mutual_info_score(targ, pred_unnormed)\n",
    "visualize ([normed_bin, unnormed_bin], \\\n",
    "               ['Normalized - {}'.format(str(normed_nmi)), 'Unnormalized - {}'.format(str(unnormed_nmi))])"
   ]
  },
  {
   "cell_type": "markdown",
   "metadata": {},
   "source": [
    "## HOW DOES CLUSTERING CHANGE WITH PRIOR NUM_CLUSTERS"
   ]
  },
  {
   "cell_type": "code",
   "execution_count": 84,
   "metadata": {},
   "outputs": [
    {
     "name": "stderr",
     "output_type": "stream",
     "text": [
      "The installed widget Javascript is the wrong version.\n"
     ]
    },
    {
     "name": "stdout",
     "output_type": "stream",
     "text": [
      "\n"
     ]
    },
    {
     "name": "stderr",
     "output_type": "stream",
     "text": [
      "The installed widget Javascript is the wrong version.\n"
     ]
    },
    {
     "name": "stdout",
     "output_type": "stream",
     "text": [
      "\n"
     ]
    },
    {
     "name": "stderr",
     "output_type": "stream",
     "text": [
      "The installed widget Javascript is the wrong version.\n"
     ]
    },
    {
     "name": "stdout",
     "output_type": "stream",
     "text": [
      "\n"
     ]
    },
    {
     "name": "stderr",
     "output_type": "stream",
     "text": [
      "The installed widget Javascript is the wrong version.\n"
     ]
    },
    {
     "name": "stdout",
     "output_type": "stream",
     "text": [
      "\n"
     ]
    },
    {
     "name": "stderr",
     "output_type": "stream",
     "text": [
      "The installed widget Javascript is the wrong version.\n"
     ]
    },
    {
     "name": "stdout",
     "output_type": "stream",
     "text": [
      "\n"
     ]
    },
    {
     "name": "stderr",
     "output_type": "stream",
     "text": [
      "The installed widget Javascript is the wrong version.\n"
     ]
    },
    {
     "name": "stdout",
     "output_type": "stream",
     "text": [
      "\n"
     ]
    },
    {
     "name": "stderr",
     "output_type": "stream",
     "text": [
      "The installed widget Javascript is the wrong version.\n"
     ]
    },
    {
     "name": "stdout",
     "output_type": "stream",
     "text": [
      "\n"
     ]
    },
    {
     "name": "stderr",
     "output_type": "stream",
     "text": [
      "The installed widget Javascript is the wrong version.\n"
     ]
    },
    {
     "name": "stdout",
     "output_type": "stream",
     "text": [
      "\n"
     ]
    },
    {
     "name": "stderr",
     "output_type": "stream",
     "text": [
      "The installed widget Javascript is the wrong version.\n"
     ]
    },
    {
     "name": "stdout",
     "output_type": "stream",
     "text": [
      "\n"
     ]
    },
    {
     "name": "stderr",
     "output_type": "stream",
     "text": [
      "The installed widget Javascript is the wrong version.\n"
     ]
    },
    {
     "name": "stdout",
     "output_type": "stream",
     "text": [
      "\n"
     ]
    },
    {
     "name": "stderr",
     "output_type": "stream",
     "text": [
      "The installed widget Javascript is the wrong version.\n"
     ]
    },
    {
     "name": "stdout",
     "output_type": "stream",
     "text": [
      "\n"
     ]
    },
    {
     "name": "stderr",
     "output_type": "stream",
     "text": [
      "The installed widget Javascript is the wrong version.\n"
     ]
    },
    {
     "name": "stdout",
     "output_type": "stream",
     "text": [
      "\n"
     ]
    },
    {
     "name": "stderr",
     "output_type": "stream",
     "text": [
      "The installed widget Javascript is the wrong version.\n"
     ]
    },
    {
     "name": "stdout",
     "output_type": "stream",
     "text": [
      "\n"
     ]
    }
   ],
   "source": [
    "num_latent = list(range(4, 30, 2))\n",
    "nmi_scores = []\n",
    "for latent in num_latent:\n",
    "    encoder = Encoder(input_dim, hidden_size, latent, latent_dim)\n",
    "    iterator = list(dataprovider.data_iterator(train=True))\n",
    "    targ, preds = get_pred (encoder, iterator, norm_test=False)\n",
    "    nmi_scores.append (normalized_mutual_info_score(targ, preds))"
   ]
  },
  {
   "cell_type": "code",
   "execution_count": 85,
   "metadata": {},
   "outputs": [
    {
     "data": {
      "image/png": "[encoded data removed]",
      "text/plain": [
       "<matplotlib.figure.Figure at 0x11c115d50>"
      ]
     },
     "metadata": {},
     "output_type": "display_data"
    }
   ],
   "source": [
    "plt.plot (num_latent, nmi_scores)\n",
    "plt.title ('Num Latent to NMI Score')\n",
    "plt.show ()"
   ]
  }
 ],
 "metadata": {
  "kernelspec": {
   "display_name": "Python 2",
   "language": "python",
   "name": "python2"
  },
  "language_info": {
   "codemirror_mode": {
    "name": "ipython",
    "version": 2
   },
   "file_extension": ".py",
   "mimetype": "text/x-python",
   "name": "python",
   "nbconvert_exporter": "python",
   "pygments_lexer": "ipython2",
   "version": "2.7.11"
  },
  "widgets": {
   "state": {
    "098e351e54524b9cb5f8dfa21fdfbe86": {
     "views": [
      {
       "cell_index": 5
      }
     ]
    },
    "275a072df7184f76a663273930ab5426": {
     "views": [
      {
       "cell_index": 6
      }
     ]
    },
    "2ae3c5e876a544a589b54f9250bdf65e": {
     "views": [
      {
       "cell_index": 5
      }
     ]
    },
    "4207d63b685b4a06af0492c601a98197": {
     "views": [
      {
       "cell_index": 6
      }
     ]
    },
    "4368321bd5cc4e199e1efe48da4c2283": {
     "views": [
      {
       "cell_index": 6
      }
     ]
    },
    "48e54cc4bec8416585b07991310f366f": {
     "views": [
      {
       "cell_index": 5
      }
     ]
    },
    "4a23e3b644d0423fb446bd8192e1507b": {
     "views": [
      {
       "cell_index": 6
      }
     ]
    },
    "5d865b259efd4518afb0e3ad316d2d94": {
     "views": [
      {
       "cell_index": 5
      }
     ]
    },
    "5f61b7a2b2ad442dabe6a819aba9b49d": {
     "views": [
      {
       "cell_index": 5
      }
     ]
    },
    "6306122824ec4d9898876ad644012abc": {
     "views": [
      {
       "cell_index": 6
      }
     ]
    },
    "64349e5f9e5443c8912bb574235b91f4": {
     "views": [
      {
       "cell_index": 6
      }
     ]
    },
    "667d56af782047fca9e4d509cf71a224": {
     "views": [
      {
       "cell_index": 5
      }
     ]
    },
    "71d19b3b55784720a11e6e1d1a2fa7ed": {
     "views": [
      {
       "cell_index": 6
      }
     ]
    },
    "73231197b88d492ebe92c58644deeaa6": {
     "views": [
      {
       "cell_index": 5
      }
     ]
    },
    "84b1278563a14ca7a6cbf0eb428fb037": {
     "views": [
      {
       "cell_index": 5
      }
     ]
    },
    "86fb7c765e534ba1952240488680585d": {
     "views": [
      {
       "cell_index": 6
      }
     ]
    },
    "8e36290fd053413383c092bb24c8ab6c": {
     "views": [
      {
       "cell_index": 6
      }
     ]
    },
    "92d2a737d3f04ae89561c9b90f055f07": {
     "views": [
      {
       "cell_index": 6
      }
     ]
    },
    "9c8becdf27ff4588ad47446d4e601623": {
     "views": [
      {
       "cell_index": 6
      }
     ]
    },
    "9d645cea429a4752932d7ca817b6cf5b": {
     "views": [
      {
       "cell_index": 5
      }
     ]
    },
    "a43a7e76a30a472a9faf9a61443d10a8": {
     "views": [
      {
       "cell_index": 6
      }
     ]
    },
    "a8ecd1af11dd416985e025f256981828": {
     "views": [
      {
       "cell_index": 6
      }
     ]
    },
    "ab3506f56a574f7da45683a9eccc72eb": {
     "views": [
      {
       "cell_index": 6
      }
     ]
    },
    "abc5d24d2a3e484993647a259b31c0f5": {
     "views": [
      {
       "cell_index": 6
      }
     ]
    },
    "b25fc5d252df48bf9cab333a489dc142": {
     "views": [
      {
       "cell_index": 6
      }
     ]
    },
    "c1f51001462443f9b53b402361b7eb77": {
     "views": [
      {
       "cell_index": 5
      }
     ]
    },
    "c6cc8eee16dc4842a68c863dcd9451dc": {
     "views": [
      {
       "cell_index": 5
      }
     ]
    },
    "d007f856e37f4baeb7f64943047ee029": {
     "views": [
      {
       "cell_index": 6
      }
     ]
    },
    "d518d8e5ee394dbcad6ff22d19afb682": {
     "views": [
      {
       "cell_index": 6
      }
     ]
    },
    "da6e1c3c53bd429997799af2a5004a52": {
     "views": [
      {
       "cell_index": 5
      }
     ]
    },
    "dbc8e97d9e314626adcd377e00db8865": {
     "views": [
      {
       "cell_index": 6
      }
     ]
    },
    "e97e068e5a2c40868a5143e68be7a6d5": {
     "views": [
      {
       "cell_index": 5
      }
     ]
    },
    "ecf7689d80344c8bb92ca7bba6c8095f": {
     "views": [
      {
       "cell_index": 6
      }
     ]
    },
    "ee6440b66d1049a29408cbfc724d99e5": {
     "views": [
      {
       "cell_index": 6
      }
     ]
    },
    "f46e0e1c59c6413880ad97a2e0421c30": {
     "views": [
      {
       "cell_index": 10
      }
     ]
    },
    "fb9c74008a23480fa9969bc53d667f7a": {
     "views": [
      {
       "cell_index": 6
      }
     ]
    },
    "fc00f531cf1b4469b1a6ce1fb38b47fc": {
     "views": [
      {
       "cell_index": 6
      }
     ]
    },
    "fece3f29c3154bf290d7842dfc8a98be": {
     "views": [
      {
       "cell_index": 6
      }
     ]
    }
   },
   "version": "1.2.0"
  }
 },
 "nbformat": 4,
 "nbformat_minor": 2
}
