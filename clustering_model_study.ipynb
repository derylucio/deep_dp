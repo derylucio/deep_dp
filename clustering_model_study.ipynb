{
 "cells": [
  {
   "cell_type": "code",
   "execution_count": 42,
   "metadata": {},
   "outputs": [],
   "source": [
    "from dataprovider import DataProvider\n",
    "from model import Encoder\n",
    "import numpy as np\n",
    "import matplotlib.pyplot as plt\n",
    "from tqdm import tqdm_notebook as tqdm\n",
    "from sklearn.metrics import normalized_mutual_info_score\n"
   ]
  },
  {
   "cell_type": "code",
   "execution_count": 5,
   "metadata": {},
   "outputs": [],
   "source": [
    "sample_size = 1 \n",
    "input_dim = 784\n",
    "hidden_size = 512\n",
    "num_factors = 15\n",
    "latent_dim = 256\n",
    "max_pix_val = 255"
   ]
  },
  {
   "cell_type": "code",
   "execution_count": 58,
   "metadata": {},
   "outputs": [],
   "source": [
    "def get_pred (model, iterator, norm_test=False):\n",
    "    actual_target, pred_target = [], []\n",
    "    iterator = list(iterator)\n",
    "    for batch in tqdm (range(len(iterator))):\n",
    "        x, y = iterator[batch]\n",
    "        _, _, multinom = encoder(x)\n",
    "        actual_target.append(y)\n",
    "        if norm_test:\n",
    "            _, _, multinom1 = encoder(x*max_pix_val)\n",
    "            pred_target.append((\n",
    "                np.argmax(multinom.data.numpy()), \n",
    "                np.argmax(multinom1.data.numpy()), \n",
    "            ))\n",
    "        else:\n",
    "            pred_target.append(np.argmax(multinom.data.numpy()))\n",
    "    return actual_target, pred_target"
   ]
  },
  {
   "cell_type": "code",
   "execution_count": 65,
   "metadata": {},
   "outputs": [],
   "source": [
    "def visualize (arrs, titles, plot_type='bar'):\n",
    "    num_plots = len(arrs)\n",
    "    fig, ax = plt.subplots (1, num_plots, figsize=(20, 10))\n",
    "    for i in range(num_plots):\n",
    "        ax[i].set_title (titles[i])\n",
    "        if 'bar' in plot_type:\n",
    "            ax[i].bar (range(num_factors), arrs[i])\n",
    "        else:\n",
    "            ax[i].plot (arrs[i])\n",
    "    plt.show ()\n",
    "    plt.close()"
   ]
  },
  {
   "cell_type": "markdown",
   "metadata": {},
   "source": [
    "## HOW DOES CLUSTERING CHANGE WITH MAGNIFICATION OF INPUT"
   ]
  },
  {
   "cell_type": "code",
   "execution_count": 60,
   "metadata": {},
   "outputs": [],
   "source": [
    "encoder = Encoder(input_dim, hidden_size, num_factors, latent_dim)"
   ]
  },
  {
   "cell_type": "code",
   "execution_count": 62,
   "metadata": {},
   "outputs": [
    {
     "name": "stderr",
     "output_type": "stream",
     "text": [
      "The installed widget Javascript is the wrong version.\n"
     ]
    },
    {
     "data": {
      "image/png": "[encoded data removed]",
      "text/plain": [
       "<matplotlib.figure.Figure at 0x11d99c4d0>"
      ]
     },
     "metadata": {},
     "output_type": "display_data"
    }
   ],
   "source": [
    "dataprovider = DataProvider(sample_size, input_dim)\n",
    "iterator = dataprovider.data_iterator(train=True)\n",
    "targ, preds = get_pred (encoder, iterator, norm_test=True)\n",
    "pred_normed, pred_unnormed = zip (*preds)\n",
    "normed_bin, unnormed_bin = np.bincount (pred_normed, minlength=num_factors), \\\n",
    "                                            np.bincount (pred_unnormed,  minlength=num_factors)\n",
    "normed_nmi = normalized_mutual_info_score(targ, pred_normed)\n",
    "unnormed_nmi = normalized_mutual_info_score(targ, pred_unnormed)\n",
    "visualize ([normed_bin, unnormed_bin], \\\n",
    "               ['Normalized - {}'.format(str(normed_nmi)), 'Unnormalized - {}'.format(str(unnormed_nmi))])"
   ]
  },
  {
   "cell_type": "markdown",
   "metadata": {},
   "source": [
    "## HOW DOES CLUSTERING CHANGE WITH PRIOR NUM_CLUSTERS"
   ]
  },
  {
   "cell_type": "code",
   "execution_count": 84,
   "metadata": {},
   "outputs": [
    {
     "name": "stderr",
     "output_type": "stream",
     "text": [
      "The installed widget Javascript is the wrong version.\n"
     ]
    },
    {
     "name": "stdout",
     "output_type": "stream",
     "text": [
      "\n"
     ]
    },
    {
     "name": "stderr",
     "output_type": "stream",
     "text": [
      "The installed widget Javascript is the wrong version.\n"
     ]
    },
    {
     "name": "stdout",
     "output_type": "stream",
     "text": [
      "\n"
     ]
    },
    {
     "name": "stderr",
     "output_type": "stream",
     "text": [
      "The installed widget Javascript is the wrong version.\n"
     ]
    },
    {
     "name": "stdout",
     "output_type": "stream",
     "text": [
      "\n"
     ]
    },
    {
     "name": "stderr",
     "output_type": "stream",
     "text": [
      "The installed widget Javascript is the wrong version.\n"
     ]
    },
    {
     "name": "stdout",
     "output_type": "stream",
     "text": [
      "\n"
     ]
    },
    {
     "name": "stderr",
     "output_type": "stream",
     "text": [
      "The installed widget Javascript is the wrong version.\n"
     ]
    },
    {
     "name": "stdout",
     "output_type": "stream",
     "text": [
      "\n"
     ]
    },
    {
     "name": "stderr",
     "output_type": "stream",
     "text": [
      "The installed widget Javascript is the wrong version.\n"
     ]
    },
    {
     "name": "stdout",
     "output_type": "stream",
     "text": [
      "\n"
     ]
    },
    {
     "name": "stderr",
     "output_type": "stream",
     "text": [
      "The installed widget Javascript is the wrong version.\n"
     ]
    },
    {
     "name": "stdout",
     "output_type": "stream",
     "text": [
      "\n"
     ]
    },
    {
     "name": "stderr",
     "output_type": "stream",
     "text": [
      "The installed widget Javascript is the wrong version.\n"
     ]
    },
    {
     "name": "stdout",
     "output_type": "stream",
     "text": [
      "\n"
     ]
    },
    {
     "name": "stderr",
     "output_type": "stream",
     "text": [
      "The installed widget Javascript is the wrong version.\n"
     ]
    },
    {
     "name": "stdout",
     "output_type": "stream",
     "text": [
      "\n"
     ]
    },
    {
     "name": "stderr",
     "output_type": "stream",
     "text": [
      "The installed widget Javascript is the wrong version.\n"
     ]
    },
    {
     "name": "stdout",
     "output_type": "stream",
     "text": [
      "\n"
     ]
    },
    {
     "name": "stderr",
     "output_type": "stream",
     "text": [
      "The installed widget Javascript is the wrong version.\n"
     ]
    },
    {
     "name": "stdout",
     "output_type": "stream",
     "text": [
      "\n"
     ]
    },
    {
     "name": "stderr",
     "output_type": "stream",
     "text": [
      "The installed widget Javascript is the wrong version.\n"
     ]
    },
    {
     "name": "stdout",
     "output_type": "stream",
     "text": [
      "\n"
     ]
    },
    {
     "name": "stderr",
     "output_type": "stream",
     "text": [
      "The installed widget Javascript is the wrong version.\n"
     ]
    },
    {
     "name": "stdout",
     "output_type": "stream",
     "text": [
      "\n"
     ]
    }
   ],
   "source": [
    "num_latent = list(range(4, 30, 2))\n",
    "nmi_scores = []\n",
    "for latent in num_latent:\n",
    "    encoder = Encoder(input_dim, hidden_size, latent, latent_dim)\n",
    "    iterator = dataprovider.data_iterator(train=True)\n",
    "    targ, preds = get_pred (encoder, iterator, norm_test=False)\n",
    "    nmi_scores.append (normalized_mutual_info_score(targ, preds))"
   ]
  },
  {
   "cell_type": "code",
   "execution_count": 85,
   "metadata": {},
   "outputs": [
    {
     "data": {
      "image/png": "[encoded data removed]",
      "text/plain": [
       "<matplotlib.figure.Figure at 0x11c115d50>"
      ]
     },
     "metadata": {},
     "output_type": "display_data"
    }
   ],
   "source": [
    "plt.plot (num_latent, nmi_scores)\n",
    "plt.title ('Num Latent to NMI Score')\n",
    "plt.show ()"
   ]
  },
  {
   "cell_type": "code",
   "execution_count": null,
   "metadata": {},
   "outputs": [],
   "source": []
  }
 ],
 "metadata": {
  "kernelspec": {
   "display_name": "Python 2",
   "language": "python",
   "name": "python2"
  },
  "language_info": {
   "codemirror_mode": {
    "name": "ipython",
    "version": 2
   },
   "file_extension": ".py",
   "mimetype": "text/x-python",
   "name": "python",
   "nbconvert_exporter": "python",
   "pygments_lexer": "ipython2",
   "version": "2.7.11"
  },
  "widgets": {
   "state": {
    "08ff0a1e6a59425bbc16c795925a66a1": {
     "views": [
      {
       "cell_index": 8
      }
     ]
    },
    "0e3d144b157a4e40ab6a29bf41aa2db5": {
     "views": [
      {
       "cell_index": 8
      }
     ]
    },
    "107db046a5d34b599d339c224d9c72ed": {
     "views": [
      {
       "cell_index": 8
      }
     ]
    },
    "22b334fbfb3c4beb9ebde438f2537fcf": {
     "views": [
      {
       "cell_index": 6
      }
     ]
    },
    "31cca151d8574d7c9ac04c5270f2ee67": {
     "views": [
      {
       "cell_index": 8
      }
     ]
    },
    "324b2d0326ee43aeb16a91b2d1550a2f": {
     "views": [
      {
       "cell_index": 8
      }
     ]
    },
    "387d3b0559804c10912561b0cb784a4b": {
     "views": [
      {
       "cell_index": 8
      }
     ]
    },
    "3b22f425493b431cbf51269efdb6dd83": {
     "views": [
      {
       "cell_index": 8
      }
     ]
    },
    "432e4c7bd9db491396dad2326e572a93": {
     "views": [
      {
       "cell_index": 8
      }
     ]
    },
    "61da50c83e144078bef8b3b9f0aad6f7": {
     "views": [
      {
       "cell_index": 8
      }
     ]
    },
    "8288254dc4cb474b8a3a08c86d05eb54": {
     "views": [
      {
       "cell_index": 8
      }
     ]
    },
    "8501b298a5d24d098355a2e8d468c50b": {
     "views": [
      {
       "cell_index": 8
      }
     ]
    },
    "93994af53c374544ab3b1007906d6722": {
     "views": [
      {
       "cell_index": 8
      }
     ]
    },
    "9b80c842a8a9413588cd228af6b14121": {
     "views": [
      {
       "cell_index": 8
      }
     ]
    },
    "a3072482021f4f71ab79731162cf55f5": {
     "views": [
      {
       "cell_index": 8
      }
     ]
    },
    "a9afc4af74064b60ac679cd795d1d931": {
     "views": [
      {
       "cell_index": 8
      }
     ]
    },
    "c68f96a0f7f34fa386313cd960035153": {
     "views": [
      {
       "cell_index": 8
      }
     ]
    },
    "ccfa20dd52424a43972a3fed53d71927": {
     "views": [
      {
       "cell_index": 8
      }
     ]
    },
    "d280da48515d4405a2d90b0cf8a4979d": {
     "views": [
      {
       "cell_index": 8
      }
     ]
    },
    "df53707a332844578bb79b99677bfd1a": {
     "views": [
      {
       "cell_index": 8
      }
     ]
    },
    "f99f88ded4404fcdba4f40a70f5dc5b5": {
     "views": [
      {
       "cell_index": 8
      }
     ]
    },
    "feb6c915c4964300921db8ce3c30c2ab": {
     "views": [
      {
       "cell_index": 8
      }
     ]
    },
    "ff26eba5cb3e4655b3452a1479741ebd": {
     "views": [
      {
       "cell_index": 8
      }
     ]
    }
   },
   "version": "1.2.0"
  }
 },
 "nbformat": 4,
 "nbformat_minor": 2
}
